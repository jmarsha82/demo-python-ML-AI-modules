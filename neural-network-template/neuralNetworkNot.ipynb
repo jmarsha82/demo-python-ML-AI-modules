{
 "cells": [
  {
   "cell_type": "code",
   "execution_count": 1,
   "metadata": {},
   "outputs": [
    {
     "name": "stdout",
     "output_type": "stream",
     "text": [
      "n inputNodes : 3\n",
      "n hiddenNodes : 3\n",
      "n outputNodes : 3\n",
      "n learningRate : 0.3\n"
     ]
    }
   ],
   "source": [
    "# neural network class definition\n",
    "class NeuralNetwork:\n",
    "    \n",
    "    # initialize the neural network\n",
    "    def __init__(self, inputNodes, hiddenNodes, outputNodes, learningRate):\n",
    "    # Set number of nodes in each type\n",
    "        self.inodes = inputNodes\n",
    "        self.hnodes = hiddenNodes\n",
    "        self.onodes = outputNodes\n",
    "        self.lr = learningRate\n",
    "        pass\n",
    "    \n",
    "    # Getters and Setters\n",
    "    def get_inodes(self):\n",
    "        return self.inodes\n",
    "\n",
    "    def set_inodes(self, value):\n",
    "        self.inodes = value\n",
    "\n",
    "    def get_hnodes(self):\n",
    "        return self.hnodes\n",
    "\n",
    "    def set_hnodes(self, value):\n",
    "        self.hnodes = value\n",
    "\n",
    "    def get_onodes(self):\n",
    "        return self.onodes\n",
    "\n",
    "    def set_onodes(self, value):\n",
    "        self.onodes = value\n",
    "        \n",
    "    def get_lr(self):\n",
    "        return self.lr\n",
    "\n",
    "    def set_lr(self, value):\n",
    "        self.lr = value\n",
    "        \n",
    "    # train the neural network\n",
    "    def train():\n",
    "        pass\n",
    "    \n",
    "    # query the neural network\n",
    "    def query():\n",
    "        pass\n",
    "\n",
    "    pass\n",
    "\n",
    "inputNodes = 3\n",
    "hiddenNodes = 3\n",
    "outputNodes = 3\n",
    "learningRate = 0.3\n",
    "\n",
    "n = NeuralNetwork(inputNodes, hiddenNodes, outputNodes, learningRate)\n",
    "\n",
    "n.set_hnodes(hiddenNodes)\n",
    "\n",
    "print(\"n inputNodes : \" + str(n.get_inodes()))\n",
    "print(\"n hiddenNodes : \" + str(n.get_hnodes()))\n",
    "print(\"n outputNodes : \" + str(n.get_onodes()))\n",
    "print(\"n learningRate : \" + str(n.get_lr()))\n",
    "\n",
    "\n",
    "# print(nnV_Beta)"
   ]
  },
  {
   "cell_type": "code",
   "execution_count": 2,
   "metadata": {},
   "outputs": [
    {
     "data": {
      "text/plain": [
       "array([[0.47932112, 0.79301415, 0.82316957],\n",
       "       [0.24151931, 0.18060962, 0.72539009],\n",
       "       [0.29879319, 0.72876999, 0.16519134]])"
      ]
     },
     "execution_count": 2,
     "metadata": {},
     "output_type": "execute_result"
    }
   ],
   "source": [
    "import numpy\n",
    "\n",
    "numpy.random.rand(3,3)"
   ]
  },
  {
   "cell_type": "code",
   "execution_count": 8,
   "metadata": {},
   "outputs": [
    {
     "name": "stdout",
     "output_type": "stream",
     "text": [
      "n interaface-inputNodes : 6\n",
      "n interaface-hiddenNodes : 6\n",
      "n interaface-outputNodes : 6\n",
      "n interaface-learningRate : 0.4\n"
     ]
    },
    {
     "data": {
      "text/plain": [
       "array([[0.13130356, 0.96776805, 0.77219682],\n",
       "       [0.36388738, 0.21785235, 0.36116232],\n",
       "       [0.85423872, 0.91717541, 0.42949538]])"
      ]
     },
     "execution_count": 8,
     "metadata": {},
     "output_type": "execute_result"
    }
   ],
   "source": [
    "from neuralNetworkClass import NeuralNetwork as nNetwork\n",
    "import numpy\n",
    "\n",
    "inputNodes = 6\n",
    "hiddenNodes = 6\n",
    "outputNodes = 6\n",
    "learningRate = 0.4\n",
    "\n",
    "n = nNetwork(inputNodes, hiddenNodes, outputNodes, learningRate)\n",
    "\n",
    "print(\"n interaface-inputNodes : \" + str(n.get_inodes()))\n",
    "print(\"n interaface-hiddenNodes : \" + str(n.get_hnodes()))\n",
    "print(\"n interaface-outputNodes : \" + str(n.get_onodes()))\n",
    "print(\"n interaface-learningRate : \" + str(n.get_lr()))\n",
    "\n",
    "numpy.random.rand(3,3)"
   ]
  }
 ],
 "metadata": {
  "celltoolbar": "Edit Metadata",
  "kernelspec": {
   "display_name": "Python 3 (ipykernel)",
   "language": "python",
   "name": "python3"
  },
  "language_info": {
   "codemirror_mode": {
    "name": "ipython",
    "version": 3
   },
   "file_extension": ".py",
   "mimetype": "text/x-python",
   "name": "python",
   "nbconvert_exporter": "python",
   "pygments_lexer": "ipython3",
   "version": "3.9.13"
  }
 },
 "nbformat": 4,
 "nbformat_minor": 2
}
